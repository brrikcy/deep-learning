{
  "cells": [
    {
      "cell_type": "markdown",
      "metadata": {
        "id": "view-in-github",
        "colab_type": "text"
      },
      "source": [
        "<a href=\"https://colab.research.google.com/github/brrikcy/deep-learning/blob/main/DL_EXP_04_Regularization.ipynb\" target=\"_parent\"><img src=\"https://colab.research.google.com/assets/colab-badge.svg\" alt=\"Open In Colab\"/></a>"
      ]
    },
    {
      "cell_type": "markdown",
      "metadata": {
        "id": "b31F0pfdy1mO"
      },
      "source": [
        "Importing libraries"
      ]
    },
    {
      "cell_type": "code",
      "execution_count": null,
      "metadata": {
        "id": "iKRFkBxgyYgN"
      },
      "outputs": [],
      "source": [
        "import tensorflow as tf\n",
        "from tensorflow.keras import layers, regularizers, models\n",
        "from tensorflow.keras.callbacks import EarlyStopping\n",
        "from tensorflow.keras.datasets import mnist\n",
        "from tensorflow.keras.utils import to_categorical"
      ]
    },
    {
      "cell_type": "markdown",
      "metadata": {
        "id": "NScjxjkZwg8v"
      },
      "source": [
        "Enabling TPU"
      ]
    },
    {
      "cell_type": "code",
      "execution_count": null,
      "metadata": {
        "id": "WD5wL8dYwCy5",
        "colab": {
          "base_uri": "https://localhost:8080/"
        },
        "outputId": "71ac8b16-eb06-45af-8105-3b351182bd78"
      },
      "outputs": [
        {
          "output_type": "stream",
          "name": "stdout",
          "text": [
            "Running on TPU  \n"
          ]
        }
      ],
      "source": [
        "try:\n",
        " tpu = tf.distribute.cluster_resolver.TPUClusterResolver() # Get TPU resolver\n",
        " print('Running on TPU ', tpu.master())\n",
        "except ValueError:\n",
        " print('TPU not found.')\n",
        "tf.config.experimental_connect_to_cluster(tpu)\n",
        "tf.tpu.experimental.initialize_tpu_system(tpu)\n",
        "\n",
        "# Define TPU\n",
        "strategy = tf.distribute.TPUStrategy(tpu)"
      ]
    },
    {
      "cell_type": "markdown",
      "metadata": {
        "id": "fa_FSx_Gy6TW"
      },
      "source": [
        "Loading MNIST dataset"
      ]
    },
    {
      "cell_type": "code",
      "execution_count": null,
      "metadata": {
        "colab": {
          "base_uri": "https://localhost:8080/"
        },
        "id": "HrzZGkkFybtO",
        "outputId": "b45b6aae-abbb-4178-8d2c-948fb9e4f825"
      },
      "outputs": [
        {
          "output_type": "stream",
          "name": "stdout",
          "text": [
            "Downloading data from https://storage.googleapis.com/tensorflow/tf-keras-datasets/mnist.npz\n",
            "11490434/11490434 [==============================] - 0s 0us/step\n"
          ]
        }
      ],
      "source": [
        "(x_train, y_train), (x_test, y_test) = mnist.load_data()"
      ]
    },
    {
      "cell_type": "markdown",
      "metadata": {
        "id": "ok_m-SGZzARm"
      },
      "source": [
        "Preprocessing"
      ]
    },
    {
      "cell_type": "code",
      "execution_count": null,
      "metadata": {
        "id": "bD3-u3-yyfje"
      },
      "outputs": [],
      "source": [
        "#normalization\n",
        "x_train, x_test = x_train / 255.0, x_test / 255.0\n",
        "\n",
        "#one-hot encoding\n",
        "y_train = to_categorical(y_train, num_classes=10)\n",
        "y_test = to_categorical(y_test, num_classes=10)"
      ]
    },
    {
      "cell_type": "markdown",
      "metadata": {
        "id": "jpiKPbWCzIDO"
      },
      "source": [
        "# CNN model with L1 regularization"
      ]
    },
    {
      "cell_type": "code",
      "execution_count": null,
      "metadata": {
        "id": "M8q_kz7MykA-",
        "outputId": "1f9fe96a-9364-43d0-c882-95dd024b38e0",
        "colab": {
          "base_uri": "https://localhost:8080/",
          "height": 211
        }
      },
      "outputs": [
        {
          "output_type": "error",
          "ename": "NameError",
          "evalue": "name 'models' is not defined",
          "traceback": [
            "\u001b[0;31m---------------------------------------------------------------------------\u001b[0m",
            "\u001b[0;31mNameError\u001b[0m                                 Traceback (most recent call last)",
            "\u001b[0;32m<ipython-input-1-dbbdbeba409c>\u001b[0m in \u001b[0;36m<cell line: 2>\u001b[0;34m()\u001b[0m\n\u001b[1;32m      1\u001b[0m \u001b[0;31m# Initialize Sequential model_l1\u001b[0m\u001b[0;34m\u001b[0m\u001b[0;34m\u001b[0m\u001b[0m\n\u001b[0;32m----> 2\u001b[0;31m \u001b[0mmodel_l1\u001b[0m \u001b[0;34m=\u001b[0m \u001b[0mmodels\u001b[0m\u001b[0;34m.\u001b[0m\u001b[0mSequential\u001b[0m\u001b[0;34m(\u001b[0m\u001b[0;34m)\u001b[0m\u001b[0;34m\u001b[0m\u001b[0;34m\u001b[0m\u001b[0m\n\u001b[0m\u001b[1;32m      3\u001b[0m \u001b[0;34m\u001b[0m\u001b[0m\n\u001b[1;32m      4\u001b[0m \u001b[0;31m# Convolutional layer with L1 regularization and Gaussian Noise\u001b[0m\u001b[0;34m\u001b[0m\u001b[0;34m\u001b[0m\u001b[0m\n\u001b[1;32m      5\u001b[0m model_l1.add(layers.Conv2D(32, (3, 3), activation='relu', padding='same',\n",
            "\u001b[0;31mNameError\u001b[0m: name 'models' is not defined"
          ]
        }
      ],
      "source": [
        "# Initialize Sequential model_l1\n",
        "model_l1 = models.Sequential()\n",
        "\n",
        "# Convolutional layer with L1 regularization and Gaussian Noise\n",
        "model_l1.add(layers.Conv2D(32, (3, 3), activation='relu', padding='same',\n",
        "                        kernel_regularizer=regularizers.l1(1e-5), input_shape=(28, 28, 1)))  # Adjusted input shape\n",
        "model_l1.add(layers.GaussianNoise(0.1))  # Add Gaussian noise\n",
        "\n",
        "# Second convolutional layer with L1 regularization\n",
        "model_l1.add(layers.Conv2D(32, (3, 3), activation='relu', padding='same',\n",
        "                        kernel_regularizer=regularizers.l1(1e-5)))\n",
        "model_l1.add(layers.MaxPooling2D((2, 2)))\n",
        "model_l1.add(layers.Dropout(0.25))  # Dropout for regularization\n",
        "\n",
        "# Third convolutional layer\n",
        "model_l1.add(layers.Conv2D(64, (3, 3), activation='relu', padding='same'))\n",
        "model_l1.add(layers.MaxPooling2D((2, 2)))\n",
        "\n",
        "# Flatten the network output\n",
        "model_l1.add(layers.Flatten())\n",
        "\n",
        "# Dense layer with L1 regularization and Dropout\n",
        "model_l1.add(layers.Dense(128, activation='relu',kernel_regularizer=regularizers.l1(1e-5)))\n",
        "model_l1.add(layers.Dropout(0.5))  # Dropout for regularization\n",
        "\n",
        "# Output layer\n",
        "model_l1.add(layers.Dense(10, activation='softmax'))  # 10 output classes for digits 0-9\n"
      ]
    },
    {
      "cell_type": "markdown",
      "metadata": {
        "id": "Qe7oCJGvyLvl"
      },
      "source": [
        "# CNN model with L2 regularization"
      ]
    },
    {
      "cell_type": "code",
      "execution_count": null,
      "metadata": {
        "id": "26heaDl8xxDH"
      },
      "outputs": [],
      "source": [
        "# Initialize Sequential model_l2\n",
        "model_l2 = models.Sequential()\n",
        "\n",
        "# Convolutional layer with L1 regularization and Gaussian Noise\n",
        "model_l2.add(layers.Conv2D(32, (3, 3), activation='relu', padding='same',\n",
        "                        kernel_regularizer=regularizers.l2(1e-4), input_shape=(28, 28, 1)))  # Adjusted input shape\n",
        "model_l2.add(layers.GaussianNoise(0.1))  # Add Gaussian noise\n",
        "\n",
        "# Second convolutional layer with L1 regularization\n",
        "model_l2.add(layers.Conv2D(32, (3, 3), activation='relu', padding='same',\n",
        "                        kernel_regularizer=regularizers.l2(1e-4)))\n",
        "model_l2.add(layers.MaxPooling2D((2, 2)))\n",
        "model_l2.add(layers.Dropout(0.25))  # Dropout for regularization\n",
        "\n",
        "# Third convolutional layer\n",
        "model_l2.add(layers.Conv2D(64, (3, 3), activation='relu', padding='same'))\n",
        "model_l2.add(layers.MaxPooling2D((2, 2)))\n",
        "\n",
        "# Flatten the network output\n",
        "model_l2.add(layers.Flatten())\n",
        "\n",
        "# Dense layer with L1 regularization and Dropout\n",
        "model_l2.add(layers.Dense(128, activation='relu', kernel_regularizer=regularizers.l2(1e-4)))\n",
        "model_l2.add(layers.Dropout(0.5))  # Dropout for regularization\n",
        "\n",
        "# Output layer\n",
        "model_l2.add(layers.Dense(10, activation='softmax'))  # 10 output classes for digits 0-9\n"
      ]
    },
    {
      "cell_type": "markdown",
      "metadata": {
        "id": "OpY-OP_GzKcu"
      },
      "source": [
        "Model compilation"
      ]
    },
    {
      "cell_type": "code",
      "execution_count": null,
      "metadata": {
        "id": "rX96vJ5qyoUW"
      },
      "outputs": [],
      "source": [
        "models=[model_l1,model_l2]\n",
        "for model in models:\n",
        "  model.compile(optimizer='adam',\n",
        "              loss='categorical_crossentropy',\n",
        "              metrics=['accuracy'])"
      ]
    },
    {
      "cell_type": "markdown",
      "metadata": {
        "id": "f78wrRHuzN-F"
      },
      "source": [
        "Defining EarlyStopping callback"
      ]
    },
    {
      "cell_type": "code",
      "execution_count": null,
      "metadata": {
        "id": "s1QuL1QJyvKG"
      },
      "outputs": [],
      "source": [
        "early_stopping = EarlyStopping(monitor='val_loss', patience=5, restore_best_weights=True, verbose=1)"
      ]
    },
    {
      "cell_type": "markdown",
      "metadata": {
        "id": "bgP0SmXTzQzO"
      },
      "source": [
        "Train the models"
      ]
    },
    {
      "cell_type": "code",
      "execution_count": null,
      "metadata": {
        "colab": {
          "base_uri": "https://localhost:8080/"
        },
        "id": "AzmoZXJPyxnN",
        "outputId": "50d83a58-f9d7-40b2-daa9-466eb8421275"
      },
      "outputs": [
        {
          "output_type": "stream",
          "name": "stdout",
          "text": [
            "Epoch 1/10\n",
            "938/938 [==============================] - 21s 21ms/step - loss: 0.4608 - accuracy: 0.8675 - val_loss: 0.1031 - val_accuracy: 0.9819\n",
            "Epoch 2/10\n",
            "938/938 [==============================] - 20s 21ms/step - loss: 0.1688 - accuracy: 0.9650 - val_loss: 0.0878 - val_accuracy: 0.9874\n",
            "Epoch 3/10\n",
            "938/938 [==============================] - 19s 21ms/step - loss: 0.1373 - accuracy: 0.9747 - val_loss: 0.0816 - val_accuracy: 0.9877\n",
            "Epoch 4/10\n",
            "938/938 [==============================] - 19s 20ms/step - loss: 0.1200 - accuracy: 0.9798 - val_loss: 0.0795 - val_accuracy: 0.9897\n",
            "Epoch 5/10\n",
            "938/938 [==============================] - 19s 21ms/step - loss: 0.1106 - accuracy: 0.9820 - val_loss: 0.0786 - val_accuracy: 0.9913\n",
            "Epoch 6/10\n",
            "938/938 [==============================] - 19s 21ms/step - loss: 0.1056 - accuracy: 0.9840 - val_loss: 0.0790 - val_accuracy: 0.9905\n",
            "Epoch 7/10\n",
            "938/938 [==============================] - 19s 20ms/step - loss: 0.1017 - accuracy: 0.9852 - val_loss: 0.0794 - val_accuracy: 0.9911\n",
            "Epoch 8/10\n",
            "938/938 [==============================] - 19s 20ms/step - loss: 0.0979 - accuracy: 0.9861 - val_loss: 0.0762 - val_accuracy: 0.9915\n",
            "Epoch 9/10\n",
            "938/938 [==============================] - 19s 20ms/step - loss: 0.0937 - accuracy: 0.9873 - val_loss: 0.0737 - val_accuracy: 0.9928\n",
            "Epoch 10/10\n",
            "938/938 [==============================] - 19s 20ms/step - loss: 0.0903 - accuracy: 0.9885 - val_loss: 0.0731 - val_accuracy: 0.9932\n",
            "Epoch 1/10\n",
            "938/938 [==============================] - 20s 21ms/step - loss: 0.4352 - accuracy: 0.8651 - val_loss: 0.0779 - val_accuracy: 0.9817\n",
            "Epoch 2/10\n",
            "938/938 [==============================] - 19s 20ms/step - loss: 0.1566 - accuracy: 0.9599 - val_loss: 0.0576 - val_accuracy: 0.9879\n",
            "Epoch 3/10\n",
            "938/938 [==============================] - 20s 21ms/step - loss: 0.1231 - accuracy: 0.9709 - val_loss: 0.0555 - val_accuracy: 0.9911\n",
            "Epoch 4/10\n",
            "938/938 [==============================] - 20s 21ms/step - loss: 0.1082 - accuracy: 0.9767 - val_loss: 0.0554 - val_accuracy: 0.9905\n",
            "Epoch 5/10\n",
            "938/938 [==============================] - 19s 21ms/step - loss: 0.0992 - accuracy: 0.9786 - val_loss: 0.0697 - val_accuracy: 0.9865\n",
            "Epoch 6/10\n",
            "938/938 [==============================] - 20s 21ms/step - loss: 0.0923 - accuracy: 0.9807 - val_loss: 0.0548 - val_accuracy: 0.9918\n",
            "Epoch 7/10\n",
            "938/938 [==============================] - 20s 21ms/step - loss: 0.0888 - accuracy: 0.9824 - val_loss: 0.0503 - val_accuracy: 0.9944\n",
            "Epoch 8/10\n",
            "938/938 [==============================] - 20s 21ms/step - loss: 0.0854 - accuracy: 0.9837 - val_loss: 0.0552 - val_accuracy: 0.9924\n",
            "Epoch 9/10\n",
            "938/938 [==============================] - 19s 20ms/step - loss: 0.0815 - accuracy: 0.9845 - val_loss: 0.0498 - val_accuracy: 0.9945\n",
            "Epoch 10/10\n",
            "938/938 [==============================] - 20s 21ms/step - loss: 0.0791 - accuracy: 0.9853 - val_loss: 0.0517 - val_accuracy: 0.9934\n"
          ]
        }
      ],
      "source": [
        "for model in models:\n",
        "  history = model.fit(x_train, y_train,\n",
        "                    epochs=10,\n",
        "                    batch_size=64,\n",
        "                    validation_data=(x_test, y_test),\n",
        "                    callbacks=[early_stopping])\n"
      ]
    },
    {
      "cell_type": "markdown",
      "metadata": {
        "id": "3RSytmr8zTPG"
      },
      "source": [
        "Evaluating the model"
      ]
    },
    {
      "cell_type": "code",
      "execution_count": null,
      "metadata": {
        "id": "CmTgMRDLy0IO",
        "colab": {
          "base_uri": "https://localhost:8080/"
        },
        "outputId": "c2c39229-45e9-4027-fedc-30b7e2b00268"
      },
      "outputs": [
        {
          "output_type": "stream",
          "name": "stdout",
          "text": [
            "313/313 [==============================] - 2s 5ms/step - loss: 0.0731 - accuracy: 0.9932\n",
            "Test accuracy with L1 regularization: 99.32000041007996 %\n",
            "313/313 [==============================] - 2s 5ms/step - loss: 0.0517 - accuracy: 0.9934\n",
            "Test accuracy with L2 regularization: 99.3399977684021 %\n"
          ]
        }
      ],
      "source": [
        "test_loss, test_acc = model_l1.evaluate(x_test, y_test)\n",
        "print(f\"Test accuracy with L1 regularization: {test_acc*100} %\")\n",
        "\n",
        "test_loss, test_acc = model_l2.evaluate(x_test, y_test)\n",
        "print(f\"Test accuracy with L2 regularization: {test_acc*100} %\")"
      ]
    },
    {
      "cell_type": "code",
      "source": [
        "# Access the GaussianNoise layer\n",
        "gaussian_noise_layer_l1 = model_l1.layers[1]\n",
        "gaussian_noise_layer_l2 = model_l2.layers[1]\n",
        "\n",
        "\n",
        "print(f\"gaussian noise in l1 model:{gaussian_noise_layer_l1.stddev}\")\n",
        "print(f\"gaussian noise in l2 model:{gaussian_noise_layer_l2.stddev}\")"
      ],
      "metadata": {
        "colab": {
          "base_uri": "https://localhost:8080/"
        },
        "id": "85KBMVUjrqoJ",
        "outputId": "1772636b-b4d2-4407-c0b2-394f09907042"
      },
      "execution_count": null,
      "outputs": [
        {
          "output_type": "stream",
          "name": "stdout",
          "text": [
            "gaussian noise in l1 model:0.1\n",
            "gaussian noise in l2 model:0.1\n"
          ]
        }
      ]
    }
  ],
  "metadata": {
    "accelerator": "TPU",
    "colab": {
      "gpuType": "V28",
      "provenance": [],
      "authorship_tag": "ABX9TyNjSb8PRNPNob+Pkx29mHsP",
      "include_colab_link": true
    },
    "kernelspec": {
      "display_name": "Python 3",
      "name": "python3"
    },
    "language_info": {
      "name": "python"
    }
  },
  "nbformat": 4,
  "nbformat_minor": 0
}